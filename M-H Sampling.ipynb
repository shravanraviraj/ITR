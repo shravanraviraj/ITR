{
 "cells": [
  {
   "cell_type": "code",
   "execution_count": 1,
   "id": "associate-purse",
   "metadata": {},
   "outputs": [],
   "source": [
    "import numpy as np\n",
    "import matplotlib.pyplot as plt\n",
    "import scipy"
   ]
  },
  {
   "cell_type": "code",
   "execution_count": 2,
   "id": "skilled-slovakia",
   "metadata": {},
   "outputs": [
    {
     "data": {
      "image/png": "[encoded data removed]",
      "text/plain": [
       "<Figure size 432x288 with 1 Axes>"
      ]
     },
     "metadata": {
      "needs_background": "light"
     },
     "output_type": "display_data"
    }
   ],
   "source": [
    "z = lambda a : np.random.normal(10,3,a)\n",
    "w = z(30000)\n",
    "plt.hist(w)\n",
    "plt.show()\n"
   ]
  },
  {
   "cell_type": "code",
   "execution_count": 3,
   "id": "daily-toyota",
   "metadata": {},
   "outputs": [
    {
     "data": {
      "image/png": "[encoded data removed]",
      "text/plain": [
       "<Figure size 432x288 with 1 Axes>"
      ]
     },
     "metadata": {
      "needs_background": "light"
     },
     "output_type": "display_data"
    },
    {
     "name": "stdout",
     "output_type": "stream",
     "text": [
      "9.933106105506093\n"
     ]
    }
   ],
   "source": [
    "w_sub = w[np.random.randint(0,30000,1000)]\n",
    "plt.hist(w_sub)\n",
    "plt.show()\n",
    "mean_sub = np.mean(w_sub)\n",
    "print(mean_sub)"
   ]
  },
  {
   "cell_type": "code",
   "execution_count": 4,
   "id": "moral-treasurer",
   "metadata": {},
   "outputs": [],
   "source": [
    "transition_model = lambda h: [h[0],np.random.normal(h[1],0.5,(1,))]"
   ]
  },
  {
   "cell_type": "code",
   "execution_count": 5,
   "id": "primary-madness",
   "metadata": {},
   "outputs": [],
   "source": [
    "def prior(x):\n",
    "    if(x[1] <=0):\n",
    "        return 0\n",
    "    return 1"
   ]
  },
  {
   "cell_type": "code",
   "execution_count": 6,
   "id": "assured-medium",
   "metadata": {},
   "outputs": [],
   "source": [
    "def likelihood(x,data):\n",
    "    return np.sum(-np.log(x[1] * np.sqrt(2* np.pi) )-((data-x[0])**2) / (2*x[1]**2))"
   ]
  },
  {
   "cell_type": "code",
   "execution_count": 7,
   "id": "aboriginal-hospital",
   "metadata": {},
   "outputs": [],
   "source": [
    "def acceptance(x, x_new):\n",
    "    if x_new>x:\n",
    "        return True\n",
    "    else:\n",
    "        accept=np.random.uniform(0,1)\n",
    "        return (accept < (np.exp(x_new-x)))"
   ]
  },
  {
   "cell_type": "code",
   "execution_count": 8,
   "id": "tested-harvard",
   "metadata": {},
   "outputs": [],
   "source": [
    "def metropolis_hastings(likelihood_computer,prior, transition_model, param_init,samples,data,acceptance_rule):\n",
    "    x = param_init\n",
    "    accept =[]\n",
    "    reject = []\n",
    "    for i in range(samples):\n",
    "        x_new = transition_model(x)\n",
    "        x_likelihood = likelihood_computer(x, data)\n",
    "        x_new_likelihood = likelihood_computer(x_new, data)\n",
    "        \n",
    "        if (acceptance_rule(x_likelihood + np.log(prior(x)),x_new_likelihood + np.log(prior(x_new)))):            \n",
    "            x = x_new\n",
    "            accept.append(x_new)\n",
    "            #print(\"Sample \", i+1, \" Accepted\")\n",
    "        else:\n",
    "            reject.append(x_new) \n",
    "            #print(\"Sample \", i+1, \" Rejected\")\n",
    "                \n",
    "    return np.array(accept, dtype = object), np.array(reject, dtype = object)\n",
    "        \n",
    "    "
   ]
  },
  {
   "cell_type": "code",
   "execution_count": 9,
   "id": "suburban-tampa",
   "metadata": {},
   "outputs": [
    {
     "name": "stdout",
     "output_type": "stream",
     "text": [
      "16.686 % Accepted\n"
     ]
    }
   ],
   "source": [
    "samples = 50000\n",
    "accept, reject = metropolis_hastings(likelihood,prior,transition_model,[mean_sub,1], samples, w_sub,acceptance)\n",
    "print(len(accept)/samples *100, \"% Accepted\")"
   ]
  },
  {
   "cell_type": "code",
   "execution_count": null,
   "id": "listed-bhutan",
   "metadata": {},
   "outputs": [],
   "source": []
  }
 ],
 "metadata": {
  "kernelspec": {
   "display_name": "Python 3",
   "language": "python",
   "name": "python3"
  },
  "language_info": {
   "codemirror_mode": {
    "name": "ipython",
    "version": 3
   },
   "file_extension": ".py",
   "mimetype": "text/x-python",
   "name": "python",
   "nbconvert_exporter": "python",
   "pygments_lexer": "ipython3",
   "version": "3.7.10"
  }
 },
 "nbformat": 4,
 "nbformat_minor": 5
}
